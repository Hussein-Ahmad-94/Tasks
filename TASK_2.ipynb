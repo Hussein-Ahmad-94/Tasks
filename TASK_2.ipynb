{
  "nbformat": 4,
  "nbformat_minor": 0,
  "metadata": {
    "colab": {
      "provenance": [],
      "authorship_tag": "ABX9TyPe5T07dQNWWJgGoXfYyiUf",
      "include_colab_link": true
    },
    "kernelspec": {
      "name": "python3",
      "display_name": "Python 3"
    },
    "language_info": {
      "name": "python"
    }
  },
  "cells": [
    {
      "cell_type": "markdown",
      "metadata": {
        "id": "view-in-github",
        "colab_type": "text"
      },
      "source": [
        "<a href=\"https://colab.research.google.com/github/Hussein-Ahmad-94/Tasks/blob/Colab/TASK_2.ipynb\" target=\"_parent\"><img src=\"https://colab.research.google.com/assets/colab-badge.svg\" alt=\"Open In Colab\"/></a>"
      ]
    },
    {
      "cell_type": "markdown",
      "source": [
        "### write a function that transform tme series into machine supervised learning using windowing"
      ],
      "metadata": {
        "id": "jNxRXdjAme4L"
      }
    },
    {
      "cell_type": "code",
      "source": [
        "def window_transform_series(series, window_size, horizon_size):\n",
        "    X, y = [], []\n",
        "    for i in range(len(series) - window_size - horizon_size + 1):\n",
        "        X.append(series[i:i + window_size])\n",
        "        y.append(series[i + window_size: i + window_size + horizon_size])\n",
        "    X,y=np.squeeze(np.array(X)),np.squeeze(np.array(y))\n",
        "    return X, y\n"
      ],
      "metadata": {
        "id": "kEWGKeUK9Jmh"
      },
      "execution_count": null,
      "outputs": []
    },
    {
      "cell_type": "code",
      "source": [
        "def window_transform_series_fake(series, window_size):\n",
        "    X =  []\n",
        "    for i in range(len(series) - window_size+ 1):\n",
        "        X.append(series[i:i + window_size])\n",
        "    X= np.squeeze(np.array(X))\n",
        "    return X"
      ],
      "metadata": {
        "id": "dkg_UiOcUGW9"
      },
      "execution_count": null,
      "outputs": []
    },
    {
      "cell_type": "code",
      "source": [
        "import numpy as np\n",
        "\n",
        "window_size = 4\n",
        "time_series = [1, 2, 3, 4, 5, 6, 7, 8, 9, 10]\n",
        "X = window_transform_series_fake(time_series, window_size)\n",
        "print(X)"
      ],
      "metadata": {
        "colab": {
          "base_uri": "https://localhost:8080/"
        },
        "id": "y9vdeUREUcty",
        "outputId": "8b400750-9dd2-4fc9-c767-95d0053cf2e0"
      },
      "execution_count": null,
      "outputs": [
        {
          "output_type": "stream",
          "name": "stdout",
          "text": [
            "[[ 1  2  3]\n",
            " [ 2  3  4]\n",
            " [ 3  4  5]\n",
            " [ 4  5  6]\n",
            " [ 5  6  7]\n",
            " [ 6  7  8]\n",
            " [ 7  8  9]\n",
            " [ 8  9 10]]\n"
          ]
        }
      ]
    },
    {
      "cell_type": "code",
      "source": [
        "import numpy as np\n",
        "\n",
        "window_size = 3\n",
        "horizon_size = 2\n",
        "time_series = [1, 2, 3, 4, 5, 6, 7, 8, 9, 10]\n",
        "X, y = window_transform_series(time_series, window_size, horizon_size)\n",
        "print(X)\n",
        "print(y)"
      ],
      "metadata": {
        "colab": {
          "base_uri": "https://localhost:8080/"
        },
        "id": "ScTEXBsb9LyP",
        "outputId": "d028191c-17bf-450a-d2df-b0bf107d828e"
      },
      "execution_count": null,
      "outputs": [
        {
          "output_type": "stream",
          "name": "stdout",
          "text": [
            "[[1 2 3]\n",
            " [2 3 4]\n",
            " [3 4 5]\n",
            " [4 5 6]\n",
            " [5 6 7]\n",
            " [6 7 8]]\n",
            "[[ 4  5]\n",
            " [ 5  6]\n",
            " [ 6  7]\n",
            " [ 7  8]\n",
            " [ 8  9]\n",
            " [ 9 10]]\n"
          ]
        }
      ]
    },
    {
      "cell_type": "code",
      "source": [
        "import keras\n",
        "from keras.engine.input_layer import node_module\n",
        "from keras.models import Sequential\n",
        "from keras.layers import Dense\n",
        "\n",
        "def MLP_1 (n_input,n_hidden,n_output,X_train, y_train):\n",
        "\n",
        "\n",
        "  # Define the model\n",
        "  model = Sequential()\n",
        "  model.add(Dense(n_hidden, activation='relu', input_shape=(n_input,)))\n",
        "  model.add(Dense(n_output))\n",
        "# Compile the model\n",
        "  model.compile(loss='mean_squared_error', optimizer='adam')\n",
        "# build model using keras documentation recommended optimizer initialization\n",
        "  optimizer = keras.optimizers.RMSprop(lr=0.001, rho=0.9, epsilon=1e-08, decay=0.0)\n",
        "# run your model\n",
        "  model.fit(X_train, y_train, epochs=1000, batch_size=50, verbose=0)\n",
        "  return model\n",
        "\n"
      ],
      "metadata": {
        "id": "H-Lj6veMnvGM"
      },
      "execution_count": null,
      "outputs": []
    },
    {
      "cell_type": "code",
      "source": [
        "MLP_1_trained= MLP_1(7,10,1,)"
      ],
      "metadata": {
        "colab": {
          "base_uri": "https://localhost:8080/",
          "height": 165
        },
        "id": "JBiVubS3AvEB",
        "outputId": "f4106b9b-79d2-4c38-a528-0eae8f8599b1"
      },
      "execution_count": null,
      "outputs": [
        {
          "output_type": "error",
          "ename": "TypeError",
          "evalue": "ignored",
          "traceback": [
            "\u001b[0;31m---------------------------------------------------------------------------\u001b[0m",
            "\u001b[0;31mTypeError\u001b[0m                                 Traceback (most recent call last)",
            "\u001b[0;32m<ipython-input-5-a171e3549009>\u001b[0m in \u001b[0;36m<module>\u001b[0;34m\u001b[0m\n\u001b[0;32m----> 1\u001b[0;31m \u001b[0mMLP_1_trained\u001b[0m\u001b[0;34m=\u001b[0m \u001b[0mMLP_1\u001b[0m\u001b[0;34m(\u001b[0m\u001b[0;36m7\u001b[0m\u001b[0;34m,\u001b[0m\u001b[0;36m10\u001b[0m\u001b[0;34m,\u001b[0m\u001b[0;36m1\u001b[0m\u001b[0;34m,\u001b[0m\u001b[0;34m)\u001b[0m\u001b[0;34m\u001b[0m\u001b[0;34m\u001b[0m\u001b[0m\n\u001b[0m",
            "\u001b[0;31mTypeError\u001b[0m: MLP_1() missing 2 required positional arguments: 'X_train' and 'y_train'"
          ]
        }
      ]
    },
    {
      "cell_type": "code",
      "source": [
        "import pandas as pd\n",
        "df= pd.read_csv(\"/content/df1_COMED_hourly.csv\")\n",
        "\n",
        "df.head()\n",
        "df.shape\n",
        "df.columns"
      ],
      "metadata": {
        "colab": {
          "base_uri": "https://localhost:8080/"
        },
        "id": "Ky9lsg823r5k",
        "outputId": "803f9ab6-7d76-47f6-f846-40193e1133be"
      },
      "execution_count": null,
      "outputs": [
        {
          "output_type": "execute_result",
          "data": {
            "text/plain": [
              "Index(['date', 'load'], dtype='object')"
            ]
          },
          "metadata": {},
          "execution_count": 13
        }
      ]
    },
    {
      "cell_type": "code",
      "source": [
        "from numpy.core.fromnumeric import shape\n",
        "df_1=df[0:2000]\n",
        "df_1.shape"
      ],
      "metadata": {
        "colab": {
          "base_uri": "https://localhost:8080/"
        },
        "id": "x0PwcgjzwtYu",
        "outputId": "725da386-4ea7-4c45-eb93-7e4d6f77b8dd"
      },
      "execution_count": null,
      "outputs": [
        {
          "output_type": "execute_result",
          "data": {
            "text/plain": [
              "(2000, 2)"
            ]
          },
          "metadata": {},
          "execution_count": 15
        }
      ]
    },
    {
      "cell_type": "code",
      "source": [
        "import pandas as pd\n",
        "from sklearn.preprocessing import MinMaxScaler\n",
        "from sklearn.model_selection import train_test_split\n",
        "from keras.models import Sequential\n",
        "from keras.layers import Dense\n",
        "\n",
        "# Read in the time series data from CSV file\n",
        "df = pd.read_csv('/content/df1_COMED_hourly.csv')\n",
        "time_series = df['load'].values.astype('float64')\n",
        "\n",
        "# Scale the data\n",
        "scaler = MinMaxScaler()\n",
        "time_series = scaler.fit_transform(time_series.reshape(-1, 1))\n",
        "\n",
        "# Window the time series data\n",
        "window_size = 7\n",
        "horizon_size = 1\n",
        "X, y = window_transform_series(time_series, window_size, horizon_size)\n",
        "\n",
        "# Split the data into training and test sets\n",
        "X_train, X_test, y_train, y_test = train_test_split(X, y, test_size=0.2, random_state=42)\n",
        "\n",
        "# Define the model\n",
        "model = Sequential()\n",
        "model.add(Dense(10, activation='relu', input_shape=(window_size,)))\n",
        "model.add(Dense(1))\n",
        "\n",
        "# Compile the model\n",
        "model.compile(loss='mean_squared_error', optimizer='adam')\n",
        "\n",
        "# Train the model\n",
        "model.fit(X_train, y_train, epochs=50, batch_size=32, verbose=1)\n"
      ],
      "metadata": {
        "colab": {
          "base_uri": "https://localhost:8080/"
        },
        "id": "qdVFqdD70seA",
        "outputId": "f77d858f-8ea8-4eae-c38e-2d60c75b32ca"
      },
      "execution_count": null,
      "outputs": [
        {
          "output_type": "stream",
          "name": "stdout",
          "text": [
            "Epoch 1/50\n",
            "1096/1096 [==============================] - 3s 2ms/step - loss: 0.0116\n",
            "Epoch 2/50\n",
            "1096/1096 [==============================] - 2s 2ms/step - loss: 0.0011\n",
            "Epoch 3/50\n",
            "1096/1096 [==============================] - 2s 2ms/step - loss: 8.3743e-04\n",
            "Epoch 4/50\n",
            "1096/1096 [==============================] - 2s 2ms/step - loss: 8.0434e-04\n",
            "Epoch 5/50\n",
            "1096/1096 [==============================] - 3s 2ms/step - loss: 7.8700e-04\n",
            "Epoch 6/50\n",
            "1096/1096 [==============================] - 2s 2ms/step - loss: 7.7826e-04\n",
            "Epoch 7/50\n",
            "1096/1096 [==============================] - 2s 1ms/step - loss: 7.6602e-04\n",
            "Epoch 8/50\n",
            "1096/1096 [==============================] - 2s 1ms/step - loss: 7.5852e-04\n",
            "Epoch 9/50\n",
            "1096/1096 [==============================] - 2s 2ms/step - loss: 7.5850e-04\n",
            "Epoch 10/50\n",
            "1096/1096 [==============================] - 2s 2ms/step - loss: 7.5223e-04\n",
            "Epoch 11/50\n",
            "1096/1096 [==============================] - 2s 2ms/step - loss: 7.4900e-04\n",
            "Epoch 12/50\n",
            "1096/1096 [==============================] - 2s 2ms/step - loss: 7.4719e-04\n",
            "Epoch 13/50\n",
            "1096/1096 [==============================] - 2s 2ms/step - loss: 7.4938e-04\n",
            "Epoch 14/50\n",
            "1096/1096 [==============================] - 2s 1ms/step - loss: 7.4567e-04\n",
            "Epoch 15/50\n",
            "1096/1096 [==============================] - 2s 2ms/step - loss: 7.4861e-04\n",
            "Epoch 16/50\n",
            "1096/1096 [==============================] - 2s 2ms/step - loss: 7.3779e-04\n",
            "Epoch 17/50\n",
            "1096/1096 [==============================] - 2s 2ms/step - loss: 7.3920e-04\n",
            "Epoch 18/50\n",
            "1096/1096 [==============================] - 2s 1ms/step - loss: 7.4208e-04\n",
            "Epoch 19/50\n",
            "1096/1096 [==============================] - 2s 2ms/step - loss: 7.4155e-04\n",
            "Epoch 20/50\n",
            "1096/1096 [==============================] - 2s 2ms/step - loss: 7.4049e-04\n",
            "Epoch 21/50\n",
            "1096/1096 [==============================] - 2s 2ms/step - loss: 7.3943e-04\n",
            "Epoch 22/50\n",
            "1096/1096 [==============================] - 2s 2ms/step - loss: 7.3934e-04\n",
            "Epoch 23/50\n",
            "1096/1096 [==============================] - 2s 2ms/step - loss: 7.3977e-04\n",
            "Epoch 24/50\n",
            "1096/1096 [==============================] - 2s 2ms/step - loss: 7.4098e-04\n",
            "Epoch 25/50\n",
            "1096/1096 [==============================] - 2s 2ms/step - loss: 7.3186e-04\n",
            "Epoch 26/50\n",
            "1096/1096 [==============================] - 2s 2ms/step - loss: 7.3773e-04\n",
            "Epoch 27/50\n",
            "1096/1096 [==============================] - 2s 2ms/step - loss: 7.3741e-04\n",
            "Epoch 28/50\n",
            "1096/1096 [==============================] - 2s 2ms/step - loss: 7.2118e-04\n",
            "Epoch 29/50\n",
            "1096/1096 [==============================] - 2s 2ms/step - loss: 7.0489e-04\n",
            "Epoch 30/50\n",
            "1096/1096 [==============================] - 2s 1ms/step - loss: 6.9752e-04\n",
            "Epoch 31/50\n",
            "1096/1096 [==============================] - 2s 1ms/step - loss: 6.9461e-04\n",
            "Epoch 32/50\n",
            "1096/1096 [==============================] - 2s 1ms/step - loss: 6.9741e-04\n",
            "Epoch 33/50\n",
            "1096/1096 [==============================] - 2s 2ms/step - loss: 6.9807e-04\n",
            "Epoch 34/50\n",
            "1096/1096 [==============================] - 2s 1ms/step - loss: 6.9450e-04\n",
            "Epoch 35/50\n",
            "1096/1096 [==============================] - 2s 2ms/step - loss: 7.0282e-04\n",
            "Epoch 36/50\n",
            "1096/1096 [==============================] - 2s 2ms/step - loss: 6.9210e-04\n",
            "Epoch 37/50\n",
            "1096/1096 [==============================] - 2s 1ms/step - loss: 6.9205e-04\n",
            "Epoch 38/50\n",
            "1096/1096 [==============================] - 2s 1ms/step - loss: 6.9418e-04\n",
            "Epoch 39/50\n",
            "1096/1096 [==============================] - 2s 2ms/step - loss: 6.9582e-04\n",
            "Epoch 40/50\n",
            "1096/1096 [==============================] - 2s 2ms/step - loss: 6.9346e-04\n",
            "Epoch 41/50\n",
            "1096/1096 [==============================] - 2s 2ms/step - loss: 6.8990e-04\n",
            "Epoch 42/50\n",
            "1096/1096 [==============================] - 2s 2ms/step - loss: 6.8913e-04\n",
            "Epoch 43/50\n",
            "1096/1096 [==============================] - 2s 2ms/step - loss: 6.8862e-04\n",
            "Epoch 44/50\n",
            "1096/1096 [==============================] - 2s 2ms/step - loss: 6.8798e-04\n",
            "Epoch 45/50\n",
            "1096/1096 [==============================] - 2s 2ms/step - loss: 6.9065e-04\n",
            "Epoch 46/50\n",
            "1096/1096 [==============================] - 2s 2ms/step - loss: 6.9278e-04\n",
            "Epoch 47/50\n",
            "1096/1096 [==============================] - 2s 2ms/step - loss: 6.9073e-04\n",
            "Epoch 48/50\n",
            "1096/1096 [==============================] - 2s 1ms/step - loss: 6.9073e-04\n",
            "Epoch 49/50\n",
            "1096/1096 [==============================] - 2s 2ms/step - loss: 6.9453e-04\n",
            "Epoch 50/50\n",
            "1096/1096 [==============================] - 2s 2ms/step - loss: 6.9177e-04\n"
          ]
        },
        {
          "output_type": "execute_result",
          "data": {
            "text/plain": [
              "<keras.callbacks.History at 0x7f52a8a07f70>"
            ]
          },
          "metadata": {},
          "execution_count": 42
        }
      ]
    },
    {
      "cell_type": "code",
      "source": [
        "import pandas as pd\n",
        "import numpy as np\n",
        "from sklearn.preprocessing import MinMaxScaler\n",
        "from sklearn.model_selection import train_test_split\n",
        "from keras.models import Sequential\n",
        "from keras.layers import Dense\n",
        "\n",
        "# Read in the time series data from CSV file\n",
        "df = pd.read_csv('/content/df1_COMED_hourly.csv')\n",
        "time_series = df['load'].values.astype('float64')"
      ],
      "metadata": {
        "id": "YNfFh47Brwzw"
      },
      "execution_count": null,
      "outputs": []
    },
    {
      "cell_type": "code",
      "source": [
        "# Scale the data\n",
        "scaler = MinMaxScaler()\n",
        "time_series = scaler.fit_transform(time_series.reshape(-1, 1))\n",
        "\n",
        "# Window the time series data\n",
        "window_size = 7\n",
        "horizon_size = 1\n",
        "X1, y1 = window_transform_series(df1, window_size, horizon_size)\n",
        "\n",
        "print(X1.shape)"
      ],
      "metadata": {
        "colab": {
          "base_uri": "https://localhost:8080/"
        },
        "id": "ILGozkzBr1ff",
        "outputId": "d17cb5c6-89a7-463e-8bb7-0a4dcd0932db"
      },
      "execution_count": null,
      "outputs": [
        {
          "output_type": "stream",
          "name": "stdout",
          "text": [
            "(35049, 7)\n"
          ]
        }
      ]
    },
    {
      "cell_type": "code",
      "source": [
        "print(y1.shape)"
      ],
      "metadata": {
        "colab": {
          "base_uri": "https://localhost:8080/"
        },
        "id": "xF7DaxIOyMjS",
        "outputId": "b8ef369e-e3fb-4330-e5b9-6669e93abf72"
      },
      "execution_count": null,
      "outputs": [
        {
          "output_type": "stream",
          "name": "stdout",
          "text": [
            "(35049,)\n"
          ]
        }
      ]
    },
    {
      "cell_type": "code",
      "source": [
        "print(np.squeeze(X1).shape)"
      ],
      "metadata": {
        "colab": {
          "base_uri": "https://localhost:8080/"
        },
        "id": "xZ71nLbGxmYn",
        "outputId": "50e4ce28-b479-4719-d994-8645d4631929"
      },
      "execution_count": null,
      "outputs": [
        {
          "output_type": "stream",
          "name": "stdout",
          "text": [
            "(35049, 7)\n"
          ]
        }
      ]
    },
    {
      "cell_type": "code",
      "source": [
        "np.squeeze(np.array(y1))"
      ],
      "metadata": {
        "colab": {
          "base_uri": "https://localhost:8080/"
        },
        "id": "nTXRkQdaxp9U",
        "outputId": "10e2e562-f404-48aa-9660-bb9d562f2b0b"
      },
      "execution_count": null,
      "outputs": [
        {
          "output_type": "execute_result",
          "data": {
            "text/plain": [
              "array([0.39101474, 0.42644558, 0.46825397, ..., 0.36479592, 0.37110261,\n",
              "       0.3768424 ])"
            ]
          },
          "metadata": {},
          "execution_count": 29
        }
      ]
    },
    {
      "cell_type": "code",
      "source": [],
      "metadata": {
        "id": "QjxEDO-txqHK"
      },
      "execution_count": null,
      "outputs": []
    },
    {
      "cell_type": "code",
      "source": [
        "type(X_train)"
      ],
      "metadata": {
        "colab": {
          "base_uri": "https://localhost:8080/"
        },
        "id": "2aiPlz3VsEBS",
        "outputId": "f8fd57dc-0d46-486f-ca97-b7f9a3ffc500"
      },
      "execution_count": null,
      "outputs": [
        {
          "output_type": "execute_result",
          "data": {
            "text/plain": [
              "list"
            ]
          },
          "metadata": {},
          "execution_count": 7
        }
      ]
    },
    {
      "cell_type": "code",
      "source": [
        "import numpy as np\n",
        "np.squeeze(np.array(X_train)).shape"
      ],
      "metadata": {
        "colab": {
          "base_uri": "https://localhost:8080/"
        },
        "id": "5zpEJW7lsPl5",
        "outputId": "c5545aa2-c334-4961-fac7-e40dd7c60ae5"
      },
      "execution_count": null,
      "outputs": [
        {
          "output_type": "execute_result",
          "data": {
            "text/plain": [
              "(35050, 7)"
            ]
          },
          "metadata": {},
          "execution_count": 12
        }
      ]
    },
    {
      "cell_type": "code",
      "source": [
        "print(np.array(X_train))"
      ],
      "metadata": {
        "colab": {
          "base_uri": "https://localhost:8080/"
        },
        "id": "qzRB_yOos0j3",
        "outputId": "c43d2c7c-565e-41e6-e300-c2935aa748ab"
      },
      "execution_count": null,
      "outputs": [
        {
          "output_type": "stream",
          "name": "stdout",
          "text": [
            "[[[0.41035998]\n",
            "  [0.43728741]\n",
            "  [0.45138889]\n",
            "  ...\n",
            "  [0.44820011]\n",
            "  [0.42120181]\n",
            "  [0.38669218]]\n",
            "\n",
            " [[0.21733277]\n",
            "  [0.21095522]\n",
            "  [0.23561508]\n",
            "  ...\n",
            "  [0.16354875]\n",
            "  [0.12032313]\n",
            "  [0.08659297]]\n",
            "\n",
            " [[0.24404762]\n",
            "  [0.26374717]\n",
            "  [0.27281746]\n",
            "  ...\n",
            "  [0.2769983 ]\n",
            "  [0.2736678 ]\n",
            "  [0.27324263]]\n",
            "\n",
            " ...\n",
            "\n",
            " [[0.10175737]\n",
            "  [0.08354592]\n",
            "  [0.07334184]\n",
            "  ...\n",
            "  [0.07454649]\n",
            "  [0.08248299]\n",
            "  [0.10508787]]\n",
            "\n",
            " [[0.22937925]\n",
            "  [0.18594104]\n",
            "  [0.17212302]\n",
            "  ...\n",
            "  [0.11954365]\n",
            "  [0.10756803]\n",
            "  [0.10728458]]\n",
            "\n",
            " [[0.17644558]\n",
            "  [0.21570295]\n",
            "  [0.26594388]\n",
            "  ...\n",
            "  [0.41135204]\n",
            "  [0.46825397]\n",
            "  [0.52685658]]]\n"
          ]
        }
      ]
    },
    {
      "cell_type": "code",
      "source": [],
      "metadata": {
        "id": "UKUdyJrysNzS"
      },
      "execution_count": null,
      "outputs": []
    },
    {
      "cell_type": "code",
      "source": [
        "X, y = window_transform_series(time_series, window_size, horizon_size)\n",
        "print(X[1])\n"
      ],
      "metadata": {
        "colab": {
          "base_uri": "https://localhost:8080/"
        },
        "id": "3giBg3PVQu02",
        "outputId": "09222520-e9ea-4104-fe8d-059495bde757"
      },
      "execution_count": null,
      "outputs": [
        {
          "output_type": "stream",
          "name": "stdout",
          "text": [
            "[[0.16057256]\n",
            " [0.14703798]\n",
            " [0.15653345]\n",
            " [0.18905896]\n",
            " [0.2575822 ]\n",
            " [0.33241213]\n",
            " [0.39101474]]\n"
          ]
        }
      ]
    },
    {
      "cell_type": "code",
      "source": [
        "p"
      ],
      "metadata": {
        "id": "RUmyZiNsXNgK"
      },
      "execution_count": null,
      "outputs": []
    },
    {
      "cell_type": "code",
      "source": [
        "print (y[1])"
      ],
      "metadata": {
        "colab": {
          "base_uri": "https://localhost:8080/"
        },
        "id": "fQOCFF1hRKc_",
        "outputId": "1fd595b0-1d0c-498f-d491-4aa7c9cc7648"
      },
      "execution_count": null,
      "outputs": [
        {
          "output_type": "stream",
          "name": "stdout",
          "text": [
            "[[0.42644558]]\n"
          ]
        }
      ]
    },
    {
      "cell_type": "code",
      "source": [
        "print(X[2])"
      ],
      "metadata": {
        "colab": {
          "base_uri": "https://localhost:8080/"
        },
        "id": "D4wD5uyJRNGQ",
        "outputId": "0c7a5c61-e4c0-4e73-b247-ede48a721f75"
      },
      "execution_count": null,
      "outputs": [
        {
          "output_type": "stream",
          "name": "stdout",
          "text": [
            "[[0.14703798]\n",
            " [0.15653345]\n",
            " [0.18905896]\n",
            " [0.2575822 ]\n",
            " [0.33241213]\n",
            " [0.39101474]\n",
            " [0.42644558]]\n"
          ]
        }
      ]
    },
    {
      "cell_type": "code",
      "source": [
        "print(y[2])"
      ],
      "metadata": {
        "colab": {
          "base_uri": "https://localhost:8080/"
        },
        "id": "4Bw1zQ-xRSQc",
        "outputId": "4f73273d-e12d-45b1-88cc-909cb68f037a"
      },
      "execution_count": null,
      "outputs": [
        {
          "output_type": "stream",
          "name": "stdout",
          "text": [
            "[[0.46825397]]\n"
          ]
        }
      ]
    },
    {
      "cell_type": "code",
      "source": [
        "type(X)"
      ],
      "metadata": {
        "colab": {
          "base_uri": "https://localhost:8080/"
        },
        "id": "kXtF52UTRiOj",
        "outputId": "e531ac32-1c88-425c-c2ac-aefcb74c58c9"
      },
      "execution_count": null,
      "outputs": [
        {
          "output_type": "execute_result",
          "data": {
            "text/plain": [
              "list"
            ]
          },
          "metadata": {},
          "execution_count": 40
        }
      ]
    },
    {
      "cell_type": "code",
      "source": [
        "print(len(X))"
      ],
      "metadata": {
        "colab": {
          "base_uri": "https://localhost:8080/"
        },
        "id": "SehnOXC7SDSV",
        "outputId": "6667d048-f853-4a25-b8f5-760cf2912f7f"
      },
      "execution_count": null,
      "outputs": [
        {
          "output_type": "stream",
          "name": "stdout",
          "text": [
            "43813\n"
          ]
        }
      ]
    },
    {
      "cell_type": "code",
      "source": [
        "print(len(y))"
      ],
      "metadata": {
        "colab": {
          "base_uri": "https://localhost:8080/"
        },
        "id": "-Zj6jdELSKPT",
        "outputId": "55889f91-b81c-4670-cad1-a05290941913"
      },
      "execution_count": null,
      "outputs": [
        {
          "output_type": "stream",
          "name": "stdout",
          "text": [
            "43813\n"
          ]
        }
      ]
    },
    {
      "cell_type": "code",
      "source": [
        "print(len(X_train))"
      ],
      "metadata": {
        "colab": {
          "base_uri": "https://localhost:8080/"
        },
        "id": "lNrun48aSXKK",
        "outputId": "693a1b9a-0dba-49f4-9a4d-119f9178a5cc"
      },
      "execution_count": null,
      "outputs": [
        {
          "output_type": "stream",
          "name": "stdout",
          "text": [
            "35050\n"
          ]
        }
      ]
    },
    {
      "cell_type": "code",
      "source": [
        "print(len(X_test))"
      ],
      "metadata": {
        "colab": {
          "base_uri": "https://localhost:8080/"
        },
        "id": "ZPn71akVSeyM",
        "outputId": "4a2c90ff-73d2-4748-d651-3e4b831696b2"
      },
      "execution_count": null,
      "outputs": [
        {
          "output_type": "stream",
          "name": "stdout",
          "text": [
            "8763\n"
          ]
        }
      ]
    },
    {
      "cell_type": "code",
      "source": [
        "print(len(y_train))"
      ],
      "metadata": {
        "colab": {
          "base_uri": "https://localhost:8080/"
        },
        "id": "aLimx2o6Sm8w",
        "outputId": "2f800d4d-776e-488f-dd24-ef727dae5765"
      },
      "execution_count": null,
      "outputs": [
        {
          "output_type": "stream",
          "name": "stdout",
          "text": [
            "35050\n"
          ]
        }
      ]
    },
    {
      "cell_type": "code",
      "source": [
        "print(len(y_test))"
      ],
      "metadata": {
        "colab": {
          "base_uri": "https://localhost:8080/"
        },
        "id": "56iQRN70Sp9u",
        "outputId": "a3b1bd0a-6a20-4613-fa17-04c38723e453"
      },
      "execution_count": null,
      "outputs": [
        {
          "output_type": "stream",
          "name": "stdout",
          "text": [
            "8763\n"
          ]
        }
      ]
    },
    {
      "cell_type": "code",
      "source": [
        "train_test_split = 0.8*len(time_series) // 3   # set the split point\n",
        "\n",
        "# partition the training set\n",
        "X_train = X[:train_test_split]\n",
        "y_train = y[:train_test_split]\n",
        "\n",
        "# keep the last chunk for testing\n",
        "X_test = X[train_test_split:]\n",
        "y_test = y[train_test_split:]\n",
        "\n",
        "\n"
      ],
      "metadata": {
        "id": "qLLk6W5fVzkR"
      },
      "execution_count": null,
      "outputs": []
    },
    {
      "cell_type": "code",
      "source": [
        "p1=int(0.8*len(time_series))\n",
        "\n",
        "df1=time_series[:p1]\n",
        "df2=time_series[p1:]"
      ],
      "metadata": {
        "id": "11zTZxqdup21"
      },
      "execution_count": null,
      "outputs": []
    },
    {
      "cell_type": "code",
      "source": [
        "print(len(df1))"
      ],
      "metadata": {
        "colab": {
          "base_uri": "https://localhost:8080/"
        },
        "id": "rXQVo-c-vWj_",
        "outputId": "9c91a4f2-8cdc-402a-b047-b1c8c092d80f"
      },
      "execution_count": null,
      "outputs": [
        {
          "output_type": "stream",
          "name": "stdout",
          "text": [
            "35056\n"
          ]
        }
      ]
    },
    {
      "cell_type": "code",
      "source": [
        "print(len(df2))"
      ],
      "metadata": {
        "colab": {
          "base_uri": "https://localhost:8080/"
        },
        "id": "OiC10q6zvcXU",
        "outputId": "2d33b59e-633b-4b96-f34d-0848c2816a15"
      },
      "execution_count": null,
      "outputs": [
        {
          "output_type": "stream",
          "name": "stdout",
          "text": [
            "8764\n"
          ]
        }
      ]
    },
    {
      "cell_type": "code",
      "source": [
        "print(len(time_series))"
      ],
      "metadata": {
        "colab": {
          "base_uri": "https://localhost:8080/"
        },
        "id": "4ANPr5-Evhtl",
        "outputId": "0391594d-6f0e-4c33-e827-3884d145bf21"
      },
      "execution_count": null,
      "outputs": [
        {
          "output_type": "stream",
          "name": "stdout",
          "text": [
            "43820\n"
          ]
        }
      ]
    },
    {
      "cell_type": "code",
      "source": [
        "! pip install yfinance"
      ],
      "metadata": {
        "colab": {
          "base_uri": "https://localhost:8080/"
        },
        "id": "MCmRgW6GS66o",
        "outputId": "9df5a7a2-53b8-4738-9b3b-1be9964f6966"
      },
      "execution_count": null,
      "outputs": [
        {
          "output_type": "stream",
          "name": "stdout",
          "text": [
            "Looking in indexes: https://pypi.org/simple, https://us-python.pkg.dev/colab-wheels/public/simple/\n",
            "Collecting yfinance\n",
            "  Downloading yfinance-0.2.9-py2.py3-none-any.whl (55 kB)\n",
            "\u001b[2K     \u001b[90m━━━━━━━━━━━━━━━━━━━━━━━━━━━━━━━━━━━━━━━━\u001b[0m \u001b[32m55.9/55.9 KB\u001b[0m \u001b[31m3.4 MB/s\u001b[0m eta \u001b[36m0:00:00\u001b[0m\n",
            "\u001b[?25hRequirement already satisfied: multitasking>=0.0.7 in /usr/local/lib/python3.8/dist-packages (from yfinance) (0.0.11)\n",
            "Collecting beautifulsoup4>=4.11.1\n",
            "  Downloading beautifulsoup4-4.11.1-py3-none-any.whl (128 kB)\n",
            "\u001b[2K     \u001b[90m━━━━━━━━━━━━━━━━━━━━━━━━━━━━━━━━━━━━━━━\u001b[0m \u001b[32m128.2/128.2 KB\u001b[0m \u001b[31m9.0 MB/s\u001b[0m eta \u001b[36m0:00:00\u001b[0m\n",
            "\u001b[?25hCollecting html5lib>=1.1\n",
            "  Downloading html5lib-1.1-py2.py3-none-any.whl (112 kB)\n",
            "\u001b[2K     \u001b[90m━━━━━━━━━━━━━━━━━━━━━━━━━━━━━━━━━━━━━━\u001b[0m \u001b[32m112.2/112.2 KB\u001b[0m \u001b[31m12.5 MB/s\u001b[0m eta \u001b[36m0:00:00\u001b[0m\n",
            "\u001b[?25hRequirement already satisfied: pytz>=2022.5 in /usr/local/lib/python3.8/dist-packages (from yfinance) (2022.7)\n",
            "Requirement already satisfied: lxml>=4.9.1 in /usr/local/lib/python3.8/dist-packages (from yfinance) (4.9.2)\n",
            "Collecting frozendict>=2.3.4\n",
            "  Downloading frozendict-2.3.4-cp38-cp38-manylinux_2_17_x86_64.manylinux2014_x86_64.whl (110 kB)\n",
            "\u001b[2K     \u001b[90m━━━━━━━━━━━━━━━━━━━━━━━━━━━━━━━━━━━━━━\u001b[0m \u001b[32m111.0/111.0 KB\u001b[0m \u001b[31m14.0 MB/s\u001b[0m eta \u001b[36m0:00:00\u001b[0m\n",
            "\u001b[?25hCollecting cryptography>=3.3.2\n",
            "  Downloading cryptography-39.0.0-cp36-abi3-manylinux_2_28_x86_64.whl (4.2 MB)\n",
            "\u001b[2K     \u001b[90m━━━━━━━━━━━━━━━━━━━━━━━━━━━━━━━━━━━━━━━━\u001b[0m \u001b[32m4.2/4.2 MB\u001b[0m \u001b[31m62.2 MB/s\u001b[0m eta \u001b[36m0:00:00\u001b[0m\n",
            "\u001b[?25hRequirement already satisfied: appdirs>=1.4.4 in /usr/local/lib/python3.8/dist-packages (from yfinance) (1.4.4)\n",
            "Requirement already satisfied: pandas>=1.3.0 in /usr/local/lib/python3.8/dist-packages (from yfinance) (1.3.5)\n",
            "Requirement already satisfied: numpy>=1.16.5 in /usr/local/lib/python3.8/dist-packages (from yfinance) (1.21.6)\n",
            "Collecting requests>=2.26\n",
            "  Downloading requests-2.28.2-py3-none-any.whl (62 kB)\n",
            "\u001b[2K     \u001b[90m━━━━━━━━━━━━━━━━━━━━━━━━━━━━━━━━━━━━━━━━\u001b[0m \u001b[32m62.8/62.8 KB\u001b[0m \u001b[31m8.9 MB/s\u001b[0m eta \u001b[36m0:00:00\u001b[0m\n",
            "\u001b[?25hCollecting soupsieve>1.2\n",
            "  Downloading soupsieve-2.3.2.post1-py3-none-any.whl (37 kB)\n",
            "Requirement already satisfied: cffi>=1.12 in /usr/local/lib/python3.8/dist-packages (from cryptography>=3.3.2->yfinance) (1.15.1)\n",
            "Requirement already satisfied: webencodings in /usr/local/lib/python3.8/dist-packages (from html5lib>=1.1->yfinance) (0.5.1)\n",
            "Requirement already satisfied: six>=1.9 in /usr/local/lib/python3.8/dist-packages (from html5lib>=1.1->yfinance) (1.15.0)\n",
            "Requirement already satisfied: python-dateutil>=2.7.3 in /usr/local/lib/python3.8/dist-packages (from pandas>=1.3.0->yfinance) (2.8.2)\n",
            "Requirement already satisfied: idna<4,>=2.5 in /usr/local/lib/python3.8/dist-packages (from requests>=2.26->yfinance) (2.10)\n",
            "Requirement already satisfied: urllib3<1.27,>=1.21.1 in /usr/local/lib/python3.8/dist-packages (from requests>=2.26->yfinance) (1.24.3)\n",
            "Requirement already satisfied: charset-normalizer<4,>=2 in /usr/local/lib/python3.8/dist-packages (from requests>=2.26->yfinance) (2.1.1)\n",
            "Requirement already satisfied: certifi>=2017.4.17 in /usr/local/lib/python3.8/dist-packages (from requests>=2.26->yfinance) (2022.12.7)\n",
            "Requirement already satisfied: pycparser in /usr/local/lib/python3.8/dist-packages (from cffi>=1.12->cryptography>=3.3.2->yfinance) (2.21)\n",
            "Installing collected packages: soupsieve, requests, html5lib, frozendict, cryptography, beautifulsoup4, yfinance\n",
            "  Attempting uninstall: requests\n",
            "    Found existing installation: requests 2.25.1\n",
            "    Uninstalling requests-2.25.1:\n",
            "      Successfully uninstalled requests-2.25.1\n",
            "  Attempting uninstall: html5lib\n",
            "    Found existing installation: html5lib 1.0.1\n",
            "    Uninstalling html5lib-1.0.1:\n",
            "      Successfully uninstalled html5lib-1.0.1\n",
            "  Attempting uninstall: beautifulsoup4\n",
            "    Found existing installation: beautifulsoup4 4.6.3\n",
            "    Uninstalling beautifulsoup4-4.6.3:\n",
            "      Successfully uninstalled beautifulsoup4-4.6.3\n",
            "Successfully installed beautifulsoup4-4.11.1 cryptography-39.0.0 frozendict-2.3.4 html5lib-1.1 requests-2.28.2 soupsieve-2.3.2.post1 yfinance-0.2.9\n"
          ]
        }
      ]
    },
    {
      "cell_type": "code",
      "source": [
        "import yfinance as yf"
      ],
      "metadata": {
        "id": "y__mIhkzvreF"
      },
      "execution_count": null,
      "outputs": []
    },
    {
      "cell_type": "code",
      "source": [
        "yf.to_csv(\"APPL\")"
      ],
      "metadata": {
        "colab": {
          "base_uri": "https://localhost:8080/",
          "height": 165
        },
        "id": "1XQKNPbmTDA9",
        "outputId": "e74c6313-6119-474a-d471-6656293f300c"
      },
      "execution_count": null,
      "outputs": [
        {
          "output_type": "error",
          "ename": "AttributeError",
          "evalue": "ignored",
          "traceback": [
            "\u001b[0;31m---------------------------------------------------------------------------\u001b[0m",
            "\u001b[0;31mAttributeError\u001b[0m                            Traceback (most recent call last)",
            "\u001b[0;32m<ipython-input-5-bc4dc7cb3234>\u001b[0m in \u001b[0;36m<module>\u001b[0;34m\u001b[0m\n\u001b[0;32m----> 1\u001b[0;31m \u001b[0myf\u001b[0m\u001b[0;34m.\u001b[0m\u001b[0mto_csv\u001b[0m\u001b[0;34m(\u001b[0m\u001b[0;34m\"APPL\"\u001b[0m\u001b[0;34m)\u001b[0m\u001b[0;34m\u001b[0m\u001b[0;34m\u001b[0m\u001b[0m\n\u001b[0m",
            "\u001b[0;31mAttributeError\u001b[0m: module 'yfinance' has no attribute 'to_csv'"
          ]
        }
      ]
    }
  ]
}