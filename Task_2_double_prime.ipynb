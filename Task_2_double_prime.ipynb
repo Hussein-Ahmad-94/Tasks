{
  "nbformat": 4,
  "nbformat_minor": 0,
  "metadata": {
    "colab": {
      "provenance": [],
      "authorship_tag": "ABX9TyNIRJTgTmUFfp19aBKPjbvB",
      "include_colab_link": true
    },
    "kernelspec": {
      "name": "python3",
      "display_name": "Python 3"
    },
    "language_info": {
      "name": "python"
    }
  },
  "cells": [
    {
      "cell_type": "markdown",
      "metadata": {
        "id": "view-in-github",
        "colab_type": "text"
      },
      "source": [
        "<a href=\"https://colab.research.google.com/github/Hussein-Ahmad-94/Tasks/blob/main/Task_2_double_prime.ipynb\" target=\"_parent\"><img src=\"https://colab.research.google.com/assets/colab-badge.svg\" alt=\"Open In Colab\"/></a>"
      ]
    },
    {
      "cell_type": "code",
      "execution_count": null,
      "metadata": {
        "id": "J3EivHIbfyli"
      },
      "outputs": [],
      "source": [
        "def window_transform_series(series, window_size, horizon_size):\n",
        "    X, y = [], []\n",
        "    for i in range(len(series) - window_size - horizon_size + 1):\n",
        "        X.append(series[i:i + window_size])\n",
        "        y.append(series[i + window_size: i + window_size + horizon_size])\n",
        "    X,y=np.squeeze(np.array(X)),np.squeeze(np.array(y))\n",
        "    return X, y\n"
      ]
    },
    {
      "cell_type": "code",
      "source": [
        "import pandas as pd\n",
        "import numpy as np\n",
        "import matplotlib.pyplot as plt\n",
        "\n",
        "from sklearn.preprocessing import MinMaxScaler\n",
        "from sklearn.model_selection import train_test_split\n",
        "from keras.models import Sequential\n",
        "from keras.layers import Dense\n",
        "from keras.optimizers import Adam\n",
        "from sklearn.metrics import mean_squared_error"
      ],
      "metadata": {
        "id": "oQtYgRpvf40p"
      },
      "execution_count": null,
      "outputs": []
    },
    {
      "cell_type": "code",
      "source": [
        "# Read in the time series data from CSV file\n",
        "df = pd.read_csv('/content/df1_COMED_hourly.csv')\n",
        "time_series = df['load'].values.astype('float64')"
      ],
      "metadata": {
        "id": "mobDsqBRf6iy"
      },
      "execution_count": null,
      "outputs": []
    },
    {
      "cell_type": "code",
      "source": [
        "# Scale the data\n",
        "scaler = MinMaxScaler()\n",
        "time_series = scaler.fit_transform(time_series.reshape(-1, 1))"
      ],
      "metadata": {
        "id": "0MYxj4b_gBJ5"
      },
      "execution_count": null,
      "outputs": []
    },
    {
      "cell_type": "code",
      "source": [
        "# Window the time series data\n",
        "window_size = 7\n",
        "horizon_size = 1\n",
        "X, y = window_transform_series(time_series, window_size, horizon_size)"
      ],
      "metadata": {
        "id": "m4I3-s08gM50"
      },
      "execution_count": null,
      "outputs": []
    },
    {
      "cell_type": "code",
      "source": [
        "# Define the model\n",
        "model = Sequential()\n",
        "model.add(Dense(10, activation='relu', input_shape=(window_size,)))\n",
        "model.add(Dense(1, activation=\"relu\"))"
      ],
      "metadata": {
        "id": "9ZU3ftR0gOwJ"
      },
      "execution_count": null,
      "outputs": []
    },
    {
      "cell_type": "code",
      "source": [
        "# Split the data into training, validation and test sets\n",
        "X_train, X_test, y_train, y_test = train_test_split(X, y, test_size=0.2, random_state=42)"
      ],
      "metadata": {
        "id": "oQnJfm9BgcFQ"
      },
      "execution_count": null,
      "outputs": []
    },
    {
      "cell_type": "code",
      "source": [
        "# Compile the model\n",
        "model.compile(loss='mean_squared_error', optimizer=Adam(lr=0.001))"
      ],
      "metadata": {
        "colab": {
          "base_uri": "https://localhost:8080/"
        },
        "id": "7R1b11SdgnfR",
        "outputId": "b6b38d04-1925-4c98-ffe5-f8c1683b979a"
      },
      "execution_count": null,
      "outputs": [
        {
          "output_type": "stream",
          "name": "stderr",
          "text": [
            "/usr/local/lib/python3.8/dist-packages/keras/optimizers/optimizer_v2/adam.py:110: UserWarning: The `lr` argument is deprecated, use `learning_rate` instead.\n",
            "  super(Adam, self).__init__(name, **kwargs)\n"
          ]
        }
      ]
    },
    {
      "cell_type": "code",
      "source": [
        "history = model.fit(X_train, y_train, epochs=50, batch_size=64, verbose=1,validation_split=0.1)"
      ],
      "metadata": {
        "colab": {
          "base_uri": "https://localhost:8080/"
        },
        "id": "Hg8F3MnnkPkx",
        "outputId": "7cc4a811-2809-4a3b-d13b-50973432d3f8"
      },
      "execution_count": null,
      "outputs": [
        {
          "output_type": "stream",
          "name": "stdout",
          "text": [
            "Epoch 1/50\n",
            "493/493 [==============================] - 2s 2ms/step - loss: 0.0060 - val_loss: 0.0028\n",
            "Epoch 2/50\n",
            "493/493 [==============================] - 1s 2ms/step - loss: 0.0017 - val_loss: 0.0010\n",
            "Epoch 3/50\n",
            "493/493 [==============================] - 1s 2ms/step - loss: 9.4203e-04 - val_loss: 9.3979e-04\n",
            "Epoch 4/50\n",
            "493/493 [==============================] - 1s 2ms/step - loss: 8.6354e-04 - val_loss: 8.8075e-04\n",
            "Epoch 5/50\n",
            "493/493 [==============================] - 1s 2ms/step - loss: 8.0997e-04 - val_loss: 7.9843e-04\n",
            "Epoch 6/50\n",
            "493/493 [==============================] - 1s 2ms/step - loss: 7.7501e-04 - val_loss: 7.8824e-04\n",
            "Epoch 7/50\n",
            "493/493 [==============================] - 1s 2ms/step - loss: 7.5722e-04 - val_loss: 9.1266e-04\n",
            "Epoch 8/50\n",
            "493/493 [==============================] - 1s 2ms/step - loss: 7.4543e-04 - val_loss: 7.4300e-04\n",
            "Epoch 9/50\n",
            "493/493 [==============================] - 1s 2ms/step - loss: 7.3504e-04 - val_loss: 7.4266e-04\n",
            "Epoch 10/50\n",
            "493/493 [==============================] - 1s 2ms/step - loss: 7.2502e-04 - val_loss: 7.3472e-04\n",
            "Epoch 11/50\n",
            "493/493 [==============================] - 1s 2ms/step - loss: 7.2294e-04 - val_loss: 7.2679e-04\n",
            "Epoch 12/50\n",
            "493/493 [==============================] - 1s 2ms/step - loss: 7.1611e-04 - val_loss: 7.4818e-04\n",
            "Epoch 13/50\n",
            "493/493 [==============================] - 1s 2ms/step - loss: 7.1343e-04 - val_loss: 7.1988e-04\n",
            "Epoch 14/50\n",
            "493/493 [==============================] - 1s 2ms/step - loss: 7.1272e-04 - val_loss: 7.1675e-04\n",
            "Epoch 15/50\n",
            "493/493 [==============================] - 1s 2ms/step - loss: 7.0453e-04 - val_loss: 7.2224e-04\n",
            "Epoch 16/50\n",
            "493/493 [==============================] - 1s 2ms/step - loss: 7.1210e-04 - val_loss: 8.1595e-04\n",
            "Epoch 17/50\n",
            "493/493 [==============================] - 1s 2ms/step - loss: 7.1067e-04 - val_loss: 9.7262e-04\n",
            "Epoch 18/50\n",
            "493/493 [==============================] - 1s 2ms/step - loss: 7.0266e-04 - val_loss: 7.1342e-04\n",
            "Epoch 19/50\n",
            "493/493 [==============================] - 1s 2ms/step - loss: 7.0275e-04 - val_loss: 7.1097e-04\n",
            "Epoch 20/50\n",
            "493/493 [==============================] - 1s 2ms/step - loss: 7.0043e-04 - val_loss: 7.1198e-04\n",
            "Epoch 21/50\n",
            "493/493 [==============================] - 1s 2ms/step - loss: 7.0079e-04 - val_loss: 7.1380e-04\n",
            "Epoch 22/50\n",
            "493/493 [==============================] - 1s 2ms/step - loss: 7.0405e-04 - val_loss: 7.1451e-04\n",
            "Epoch 23/50\n",
            "493/493 [==============================] - 1s 1ms/step - loss: 7.0758e-04 - val_loss: 7.1980e-04\n",
            "Epoch 24/50\n",
            "493/493 [==============================] - 1s 2ms/step - loss: 6.9939e-04 - val_loss: 7.1557e-04\n",
            "Epoch 25/50\n",
            "493/493 [==============================] - 1s 2ms/step - loss: 6.9719e-04 - val_loss: 7.2548e-04\n",
            "Epoch 26/50\n",
            "493/493 [==============================] - 1s 2ms/step - loss: 7.0695e-04 - val_loss: 7.0659e-04\n",
            "Epoch 27/50\n",
            "493/493 [==============================] - 1s 2ms/step - loss: 6.9381e-04 - val_loss: 7.1031e-04\n",
            "Epoch 28/50\n",
            "493/493 [==============================] - 1s 2ms/step - loss: 7.0568e-04 - val_loss: 7.1429e-04\n",
            "Epoch 29/50\n",
            "493/493 [==============================] - 1s 2ms/step - loss: 6.9720e-04 - val_loss: 7.0534e-04\n",
            "Epoch 30/50\n",
            "493/493 [==============================] - 1s 2ms/step - loss: 7.0173e-04 - val_loss: 7.1630e-04\n",
            "Epoch 31/50\n",
            "493/493 [==============================] - 1s 2ms/step - loss: 6.9604e-04 - val_loss: 7.0934e-04\n",
            "Epoch 32/50\n",
            "493/493 [==============================] - 1s 2ms/step - loss: 6.9617e-04 - val_loss: 7.1192e-04\n",
            "Epoch 33/50\n",
            "493/493 [==============================] - 1s 2ms/step - loss: 7.0543e-04 - val_loss: 7.9238e-04\n",
            "Epoch 34/50\n",
            "493/493 [==============================] - 1s 2ms/step - loss: 7.0299e-04 - val_loss: 7.1550e-04\n",
            "Epoch 35/50\n",
            "493/493 [==============================] - 1s 2ms/step - loss: 6.9338e-04 - val_loss: 7.2758e-04\n",
            "Epoch 36/50\n",
            "493/493 [==============================] - 1s 2ms/step - loss: 6.9106e-04 - val_loss: 7.9837e-04\n",
            "Epoch 37/50\n",
            "493/493 [==============================] - 1s 2ms/step - loss: 6.9840e-04 - val_loss: 7.0413e-04\n",
            "Epoch 38/50\n",
            "493/493 [==============================] - 1s 2ms/step - loss: 7.0014e-04 - val_loss: 7.1973e-04\n",
            "Epoch 39/50\n",
            "493/493 [==============================] - 1s 2ms/step - loss: 6.9707e-04 - val_loss: 7.0827e-04\n",
            "Epoch 40/50\n",
            "493/493 [==============================] - 1s 2ms/step - loss: 6.9805e-04 - val_loss: 7.0463e-04\n",
            "Epoch 41/50\n",
            "493/493 [==============================] - 1s 2ms/step - loss: 6.9430e-04 - val_loss: 7.0616e-04\n",
            "Epoch 42/50\n",
            "493/493 [==============================] - 1s 2ms/step - loss: 6.8988e-04 - val_loss: 7.0882e-04\n",
            "Epoch 43/50\n",
            "493/493 [==============================] - 1s 2ms/step - loss: 6.9353e-04 - val_loss: 7.2558e-04\n",
            "Epoch 44/50\n",
            "493/493 [==============================] - 1s 2ms/step - loss: 6.9383e-04 - val_loss: 7.1738e-04\n",
            "Epoch 45/50\n",
            "493/493 [==============================] - 1s 2ms/step - loss: 7.0003e-04 - val_loss: 7.0108e-04\n",
            "Epoch 46/50\n",
            "493/493 [==============================] - 1s 2ms/step - loss: 7.0287e-04 - val_loss: 7.5193e-04\n",
            "Epoch 47/50\n",
            "493/493 [==============================] - 1s 2ms/step - loss: 7.0043e-04 - val_loss: 7.1506e-04\n",
            "Epoch 48/50\n",
            "493/493 [==============================] - 1s 2ms/step - loss: 6.9073e-04 - val_loss: 7.0120e-04\n",
            "Epoch 49/50\n",
            "493/493 [==============================] - 1s 2ms/step - loss: 6.9517e-04 - val_loss: 7.1106e-04\n",
            "Epoch 50/50\n",
            "493/493 [==============================] - 1s 2ms/step - loss: 6.9251e-04 - val_loss: 7.0651e-04\n"
          ]
        }
      ]
    },
    {
      "cell_type": "code",
      "source": [
        "# train the model\n",
        "history = model.fit(X_train, y_train, epochs=50, batch_size=64, verbose=1) #validation_split=0.1)"
      ],
      "metadata": {
        "colab": {
          "base_uri": "https://localhost:8080/"
        },
        "id": "3lfMsyX6geOJ",
        "outputId": "b3c9c4ec-8915-4c5a-e923-1e81dd38aaaf"
      },
      "execution_count": null,
      "outputs": [
        {
          "output_type": "stream",
          "name": "stdout",
          "text": [
            "Epoch 1/50\n",
            "548/548 [==============================] - 1s 1ms/step - loss: 7.0038e-04\n",
            "Epoch 2/50\n",
            "548/548 [==============================] - 1s 2ms/step - loss: 6.9858e-04\n",
            "Epoch 3/50\n",
            "548/548 [==============================] - 1s 2ms/step - loss: 7.0452e-04\n",
            "Epoch 4/50\n",
            "548/548 [==============================] - 1s 2ms/step - loss: 6.9600e-04\n",
            "Epoch 5/50\n",
            "548/548 [==============================] - 1s 2ms/step - loss: 6.9722e-04\n",
            "Epoch 6/50\n",
            "548/548 [==============================] - 1s 1ms/step - loss: 6.9319e-04\n",
            "Epoch 7/50\n",
            "548/548 [==============================] - 1s 1ms/step - loss: 6.9279e-04\n",
            "Epoch 8/50\n",
            "548/548 [==============================] - 1s 1ms/step - loss: 6.9294e-04\n",
            "Epoch 9/50\n",
            "548/548 [==============================] - 1s 1ms/step - loss: 7.0007e-04\n",
            "Epoch 10/50\n",
            "548/548 [==============================] - 1s 1ms/step - loss: 6.9476e-04\n",
            "Epoch 11/50\n",
            "548/548 [==============================] - 1s 1ms/step - loss: 6.8991e-04\n",
            "Epoch 12/50\n",
            "548/548 [==============================] - 1s 1ms/step - loss: 6.9089e-04\n",
            "Epoch 13/50\n",
            "548/548 [==============================] - 1s 1ms/step - loss: 6.9416e-04\n",
            "Epoch 14/50\n",
            "548/548 [==============================] - 1s 1ms/step - loss: 6.9834e-04\n",
            "Epoch 15/50\n",
            "548/548 [==============================] - 1s 1ms/step - loss: 6.9880e-04\n",
            "Epoch 16/50\n",
            "548/548 [==============================] - 1s 1ms/step - loss: 6.9102e-04\n",
            "Epoch 17/50\n",
            "548/548 [==============================] - 1s 1ms/step - loss: 6.9930e-04\n",
            "Epoch 18/50\n",
            "548/548 [==============================] - 1s 1ms/step - loss: 6.9048e-04\n",
            "Epoch 19/50\n",
            "548/548 [==============================] - 1s 1ms/step - loss: 6.8796e-04\n",
            "Epoch 20/50\n",
            "548/548 [==============================] - 1s 1ms/step - loss: 6.9483e-04\n",
            "Epoch 21/50\n",
            "548/548 [==============================] - 1s 1ms/step - loss: 6.8734e-04\n",
            "Epoch 22/50\n",
            "548/548 [==============================] - 1s 1ms/step - loss: 6.9604e-04\n",
            "Epoch 23/50\n",
            "548/548 [==============================] - 1s 1ms/step - loss: 6.9297e-04\n",
            "Epoch 24/50\n",
            "548/548 [==============================] - 1s 1ms/step - loss: 6.9215e-04\n",
            "Epoch 25/50\n",
            "548/548 [==============================] - 1s 1ms/step - loss: 6.8911e-04\n",
            "Epoch 26/50\n",
            "548/548 [==============================] - 1s 2ms/step - loss: 6.9152e-04\n",
            "Epoch 27/50\n",
            "548/548 [==============================] - 1s 1ms/step - loss: 6.9035e-04\n",
            "Epoch 28/50\n",
            "548/548 [==============================] - 1s 1ms/step - loss: 6.9371e-04\n",
            "Epoch 29/50\n",
            "548/548 [==============================] - 1s 1ms/step - loss: 6.9308e-04\n",
            "Epoch 30/50\n",
            "548/548 [==============================] - 1s 1ms/step - loss: 6.8801e-04\n",
            "Epoch 31/50\n",
            "548/548 [==============================] - 1s 1ms/step - loss: 6.9662e-04\n",
            "Epoch 32/50\n",
            "548/548 [==============================] - 1s 2ms/step - loss: 6.9148e-04\n",
            "Epoch 33/50\n",
            "548/548 [==============================] - 1s 1ms/step - loss: 6.9725e-04\n",
            "Epoch 34/50\n",
            "548/548 [==============================] - 1s 1ms/step - loss: 6.9075e-04\n",
            "Epoch 35/50\n",
            "548/548 [==============================] - 1s 1ms/step - loss: 6.9528e-04\n",
            "Epoch 36/50\n",
            "548/548 [==============================] - 1s 1ms/step - loss: 6.8400e-04\n",
            "Epoch 37/50\n",
            "548/548 [==============================] - 1s 1ms/step - loss: 6.9008e-04\n",
            "Epoch 38/50\n",
            "548/548 [==============================] - 1s 1ms/step - loss: 6.9093e-04\n",
            "Epoch 39/50\n",
            "548/548 [==============================] - 1s 1ms/step - loss: 6.8743e-04\n",
            "Epoch 40/50\n",
            "548/548 [==============================] - 1s 1ms/step - loss: 6.8957e-04\n",
            "Epoch 41/50\n",
            "548/548 [==============================] - 1s 2ms/step - loss: 6.9055e-04\n",
            "Epoch 42/50\n",
            "548/548 [==============================] - 1s 1ms/step - loss: 6.8918e-04\n",
            "Epoch 43/50\n",
            "548/548 [==============================] - 1s 1ms/step - loss: 6.9078e-04\n",
            "Epoch 44/50\n",
            "548/548 [==============================] - 1s 1ms/step - loss: 6.8774e-04\n",
            "Epoch 45/50\n",
            "548/548 [==============================] - 1s 2ms/step - loss: 6.8884e-04\n",
            "Epoch 46/50\n",
            "548/548 [==============================] - 1s 1ms/step - loss: 6.9244e-04\n",
            "Epoch 47/50\n",
            "548/548 [==============================] - 1s 1ms/step - loss: 6.8918e-04\n",
            "Epoch 48/50\n",
            "548/548 [==============================] - 1s 1ms/step - loss: 6.8910e-04\n",
            "Epoch 49/50\n",
            "548/548 [==============================] - 1s 1ms/step - loss: 6.8450e-04\n",
            "Epoch 50/50\n",
            "548/548 [==============================] - 1s 2ms/step - loss: 6.8579e-04\n"
          ]
        }
      ]
    },
    {
      "cell_type": "code",
      "source": [
        "# Make predictions on test data\n",
        "y_pred = model.predict(X_test)"
      ],
      "metadata": {
        "colab": {
          "base_uri": "https://localhost:8080/"
        },
        "id": "Mpu2K66wgzb4",
        "outputId": "189172be-835d-4cda-ee2a-aa369c95b007"
      },
      "execution_count": null,
      "outputs": [
        {
          "output_type": "stream",
          "name": "stdout",
          "text": [
            "274/274 [==============================] - 0s 1ms/step\n"
          ]
        }
      ]
    },
    {
      "cell_type": "code",
      "source": [
        "# Calculate the RMSE\n",
        "rmse = np.sqrt(mean_squared_error(y_test, y_pred))\n",
        "print(\"Root Mean Squared Error:\", rmse)"
      ],
      "metadata": {
        "colab": {
          "base_uri": "https://localhost:8080/"
        },
        "id": "3RitQzx7g2aJ",
        "outputId": "5b78cae4-44d2-4337-c29f-eda53d05c507"
      },
      "execution_count": null,
      "outputs": [
        {
          "output_type": "stream",
          "name": "stdout",
          "text": [
            "Root Mean Squared Error: 0.026089326824270245\n"
          ]
        }
      ]
    },
    {
      "cell_type": "code",
      "source": [
        "# Plot the training, validation and test loss\n",
        "plt.plot(history.history['loss'])\n",
        "plt.title('Model loss')\n",
        "plt.ylabel('Loss')\n",
        "plt.xlabel('Epoch')\n",
        "plt.legend(['Train'], loc='upper right')\n",
        "plt.show()"
      ],
      "metadata": {
        "colab": {
          "base_uri": "https://localhost:8080/",
          "height": 295
        },
        "id": "SturXRvJhwsw",
        "outputId": "57c958b7-92b2-47b0-cd0b-c0e97f77055f"
      },
      "execution_count": null,
      "outputs": [
        {
          "output_type": "display_data",
          "data": {
            "text/plain": [
              "<Figure size 432x288 with 1 Axes>"
            ],
            "image/png": "[encoded data removed]"
          },
          "metadata": {
            "needs_background": "light"
          }
        }
      ]
    },
    {
      "cell_type": "code",
      "source": [
        "# Evaluate the test set\n",
        "test_loss = model.evaluate(X_test, y_test, verbose=0)\n",
        "print(\"Test loss:\", test_loss)\n",
        "\n",
        "# Plot the training, validation and test loss\n",
        "plt.plot(history.history['loss'])\n",
        "plt.plot(test_loss, '--', c='black')\n",
        "plt.title('Model loss')\n",
        "plt.ylabel('Loss')\n",
        "plt.xlabel('Epoch')\n",
        "plt.legend(['Train', 'Validation', 'Test'], loc='upper right')\n",
        "plt.show()\n"
      ],
      "metadata": {
        "colab": {
          "base_uri": "https://localhost:8080/",
          "height": 312
        },
        "id": "1MGP-c4zk99f",
        "outputId": "d96a7899-7182-470a-d2c0-26c519c709b2"
      },
      "execution_count": null,
      "outputs": [
        {
          "output_type": "stream",
          "name": "stdout",
          "text": [
            "Test loss: 0.0006806531455367804\n"
          ]
        },
        {
          "output_type": "display_data",
          "data": {
            "text/plain": [
              "<Figure size 432x288 with 1 Axes>"
            ],
            "image/png": "[encoded data removed]"
          },
          "metadata": {
            "needs_background": "light"
          }
        }
      ]
    }
  ]
}