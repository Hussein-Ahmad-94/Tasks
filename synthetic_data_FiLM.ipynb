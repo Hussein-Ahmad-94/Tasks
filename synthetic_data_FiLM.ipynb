{
  "nbformat": 4,
  "nbformat_minor": 0,
  "metadata": {
    "colab": {
      "provenance": [],
      "authorship_tag": "ABX9TyMyY/zTFNM4oT2csR1tP28Z"
    },
    "kernelspec": {
      "name": "python3",
      "display_name": "Python 3"
    },
    "language_info": {
      "name": "python"
    }
  },
  "cells": [
    {
      "cell_type": "code",
      "source": [
        "from keras.layers import Input, LSTM, Dense, Lambda, Concatenate\n",
        "from keras.models import Model\n",
        "import keras.backend as K\n",
        "import numpy as np"
      ],
      "metadata": {
        "id": "ixygIrysreAA"
      },
      "execution_count": null,
      "outputs": []
    },
    {
      "cell_type": "code",
      "source": [
        "# Synthetic Data\n",
        "num_samples = 5\n",
        "input_shape = (10, 128)  # Adjust based on your actual input shape\n",
        "synthetic_data = np.random.rand(num_samples, *input_shape)"
      ],
      "metadata": {
        "id": "Z6iaVFAsrfyg"
      },
      "execution_count": null,
      "outputs": []
    },
    {
      "cell_type": "code",
      "source": [
        "# Encoder\n",
        "encoder_input = Input(shape=input_shape, name='encoder_input')\n",
        "encoder_output = LSTM(128, return_sequences=True)(encoder_input)\n",
        "print(\"Encoder Output Shape:\", encoder_output.shape)\n",
        "\n",
        "# Generator\n",
        "generator_input = Input(shape=(128,), name='generator_input')\n",
        "generator_output = Dense(128)(generator_input)\n",
        "print(\"Generator Output Shape:\", generator_output.shape)\n",
        "\n",
        "# FiLM Layer\n",
        "film_layer = Lambda(lambda x: K.expand_dims(x, axis=1))(generator_output)\n",
        "film_layer = Lambda(lambda x: K.repeat_elements(x, input_shape[1], axis=1))(film_layer)\n",
        "filmed_encoder_output = Concatenate(axis=-1)([encoder_output, film_layer])\n",
        "print(\"FiLMed Encoder Output Shape:\", filmed_encoder_output.shape)\n",
        "\n",
        "# Task Network (additional layers can be added based on your specific architecture)\n",
        "task_output = LSTM(64)(filmed_encoder_output)\n",
        "print(\"Task Output Shape:\", task_output.shape)\n",
        "\n",
        "output = Dense(1, activation='linear')(task_output)\n",
        "print(\"Final Output Shape:\", output.shape)\n",
        "\n",
        "# Model\n",
        "model = Model(inputs=[encoder_input, generator_input], outputs=output)\n",
        "\n",
        "# Compile and fit the model (you can replace this with your actual data and training setup)\n",
        "model.compile(optimizer='adam', loss='mean_squared_error')\n",
        "model.fit(x=[synthetic_data, np.random.rand(num_samples, 128)], y=np.random.rand(num_samples, 1))\n"
      ],
      "metadata": {
        "colab": {
          "base_uri": "https://localhost:8080/",
          "height": 437
        },
        "id": "kUXoOm2wrXoy",
        "outputId": "6c934b5e-7b5b-46ce-8259-1ae92ba4eb50"
      },
      "execution_count": null,
      "outputs": [
        {
          "output_type": "stream",
          "name": "stdout",
          "text": [
            "Encoder Output Shape: (None, 10, 128)\n",
            "Generator Output Shape: (None, 128)\n"
          ]
        },
        {
          "output_type": "error",
          "ename": "ValueError",
          "evalue": "ignored",
          "traceback": [
            "\u001b[0;31m---------------------------------------------------------------------------\u001b[0m",
            "\u001b[0;31mValueError\u001b[0m                                Traceback (most recent call last)",
            "\u001b[0;32m<ipython-input-8-3804f4e7a89f>\u001b[0m in \u001b[0;36m<cell line: 14>\u001b[0;34m()\u001b[0m\n\u001b[1;32m     12\u001b[0m \u001b[0mfilm_layer\u001b[0m \u001b[0;34m=\u001b[0m \u001b[0mLambda\u001b[0m\u001b[0;34m(\u001b[0m\u001b[0;32mlambda\u001b[0m \u001b[0mx\u001b[0m\u001b[0;34m:\u001b[0m \u001b[0mK\u001b[0m\u001b[0;34m.\u001b[0m\u001b[0mexpand_dims\u001b[0m\u001b[0;34m(\u001b[0m\u001b[0mx\u001b[0m\u001b[0;34m,\u001b[0m \u001b[0maxis\u001b[0m\u001b[0;34m=\u001b[0m\u001b[0;36m1\u001b[0m\u001b[0;34m)\u001b[0m\u001b[0;34m)\u001b[0m\u001b[0;34m(\u001b[0m\u001b[0mgenerator_output\u001b[0m\u001b[0;34m)\u001b[0m\u001b[0;34m\u001b[0m\u001b[0;34m\u001b[0m\u001b[0m\n\u001b[1;32m     13\u001b[0m \u001b[0mfilm_layer\u001b[0m \u001b[0;34m=\u001b[0m \u001b[0mLambda\u001b[0m\u001b[0;34m(\u001b[0m\u001b[0;32mlambda\u001b[0m \u001b[0mx\u001b[0m\u001b[0;34m:\u001b[0m \u001b[0mK\u001b[0m\u001b[0;34m.\u001b[0m\u001b[0mrepeat_elements\u001b[0m\u001b[0;34m(\u001b[0m\u001b[0mx\u001b[0m\u001b[0;34m,\u001b[0m \u001b[0minput_shape\u001b[0m\u001b[0;34m[\u001b[0m\u001b[0;36m1\u001b[0m\u001b[0;34m]\u001b[0m\u001b[0;34m,\u001b[0m \u001b[0maxis\u001b[0m\u001b[0;34m=\u001b[0m\u001b[0;36m1\u001b[0m\u001b[0;34m)\u001b[0m\u001b[0;34m)\u001b[0m\u001b[0;34m(\u001b[0m\u001b[0mfilm_layer\u001b[0m\u001b[0;34m)\u001b[0m\u001b[0;34m\u001b[0m\u001b[0;34m\u001b[0m\u001b[0m\n\u001b[0;32m---> 14\u001b[0;31m \u001b[0mfilmed_encoder_output\u001b[0m \u001b[0;34m=\u001b[0m \u001b[0mConcatenate\u001b[0m\u001b[0;34m(\u001b[0m\u001b[0maxis\u001b[0m\u001b[0;34m=\u001b[0m\u001b[0;34m-\u001b[0m\u001b[0;36m1\u001b[0m\u001b[0;34m)\u001b[0m\u001b[0;34m(\u001b[0m\u001b[0;34m[\u001b[0m\u001b[0mencoder_output\u001b[0m\u001b[0;34m,\u001b[0m \u001b[0mfilm_layer\u001b[0m\u001b[0;34m]\u001b[0m\u001b[0;34m)\u001b[0m\u001b[0;34m\u001b[0m\u001b[0;34m\u001b[0m\u001b[0m\n\u001b[0m\u001b[1;32m     15\u001b[0m \u001b[0mprint\u001b[0m\u001b[0;34m(\u001b[0m\u001b[0;34m\"FiLMed Encoder Output Shape:\"\u001b[0m\u001b[0;34m,\u001b[0m \u001b[0mfilmed_encoder_output\u001b[0m\u001b[0;34m.\u001b[0m\u001b[0mshape\u001b[0m\u001b[0;34m)\u001b[0m\u001b[0;34m\u001b[0m\u001b[0;34m\u001b[0m\u001b[0m\n\u001b[1;32m     16\u001b[0m \u001b[0;34m\u001b[0m\u001b[0m\n",
            "\u001b[0;32m/usr/local/lib/python3.10/dist-packages/keras/src/utils/traceback_utils.py\u001b[0m in \u001b[0;36merror_handler\u001b[0;34m(*args, **kwargs)\u001b[0m\n\u001b[1;32m     68\u001b[0m             \u001b[0;31m# To get the full stack trace, call:\u001b[0m\u001b[0;34m\u001b[0m\u001b[0;34m\u001b[0m\u001b[0m\n\u001b[1;32m     69\u001b[0m             \u001b[0;31m# `tf.debugging.disable_traceback_filtering()`\u001b[0m\u001b[0;34m\u001b[0m\u001b[0;34m\u001b[0m\u001b[0m\n\u001b[0;32m---> 70\u001b[0;31m             \u001b[0;32mraise\u001b[0m \u001b[0me\u001b[0m\u001b[0;34m.\u001b[0m\u001b[0mwith_traceback\u001b[0m\u001b[0;34m(\u001b[0m\u001b[0mfiltered_tb\u001b[0m\u001b[0;34m)\u001b[0m \u001b[0;32mfrom\u001b[0m \u001b[0;32mNone\u001b[0m\u001b[0;34m\u001b[0m\u001b[0;34m\u001b[0m\u001b[0m\n\u001b[0m\u001b[1;32m     71\u001b[0m         \u001b[0;32mfinally\u001b[0m\u001b[0;34m:\u001b[0m\u001b[0;34m\u001b[0m\u001b[0;34m\u001b[0m\u001b[0m\n\u001b[1;32m     72\u001b[0m             \u001b[0;32mdel\u001b[0m \u001b[0mfiltered_tb\u001b[0m\u001b[0;34m\u001b[0m\u001b[0;34m\u001b[0m\u001b[0m\n",
            "\u001b[0;32m/usr/local/lib/python3.10/dist-packages/keras/src/layers/merging/concatenate.py\u001b[0m in \u001b[0;36mbuild\u001b[0;34m(self, input_shape)\u001b[0m\n\u001b[1;32m    129\u001b[0m                 )\n\u001b[1;32m    130\u001b[0m                 \u001b[0;32mif\u001b[0m \u001b[0mlen\u001b[0m\u001b[0;34m(\u001b[0m\u001b[0munique_dims\u001b[0m\u001b[0;34m)\u001b[0m \u001b[0;34m>\u001b[0m \u001b[0;36m1\u001b[0m\u001b[0;34m:\u001b[0m\u001b[0;34m\u001b[0m\u001b[0;34m\u001b[0m\u001b[0m\n\u001b[0;32m--> 131\u001b[0;31m                     \u001b[0;32mraise\u001b[0m \u001b[0mValueError\u001b[0m\u001b[0;34m(\u001b[0m\u001b[0merr_msg\u001b[0m\u001b[0;34m)\u001b[0m\u001b[0;34m\u001b[0m\u001b[0;34m\u001b[0m\u001b[0m\n\u001b[0m\u001b[1;32m    132\u001b[0m \u001b[0;34m\u001b[0m\u001b[0m\n\u001b[1;32m    133\u001b[0m     \u001b[0;32mdef\u001b[0m \u001b[0m_merge_function\u001b[0m\u001b[0;34m(\u001b[0m\u001b[0mself\u001b[0m\u001b[0;34m,\u001b[0m \u001b[0minputs\u001b[0m\u001b[0;34m)\u001b[0m\u001b[0;34m:\u001b[0m\u001b[0;34m\u001b[0m\u001b[0;34m\u001b[0m\u001b[0m\n",
            "\u001b[0;31mValueError\u001b[0m: A `Concatenate` layer requires inputs with matching shapes except for the concatenation axis. Received: input_shape=[(None, 10, 128), (None, 128, 128)]"
          ]
        }
      ]
    },
    {
      "cell_type": "code",
      "source": [
        "from keras.layers import Input, LSTM, Dense, Lambda, Concatenate\n",
        "from keras.models import Model\n",
        "\n",
        "# Synthetic Data\n",
        "num_samples = 5\n",
        "input_shape = (10, 128)  # Adjust based on your actual input shape\n",
        "synthetic_data = np.random.rand(num_samples, *input_shape)\n",
        "\n",
        "# Encoder\n",
        "encoder_input = Input(shape=input_shape, name='encoder_input')\n",
        "encoder_output = LSTM(128, return_sequences=True)(encoder_input)\n",
        "print(\"Encoder Output Shape:\", encoder_output.shape)\n",
        "\n",
        "# Generator\n",
        "generator_input = Input(shape=(128,), name='generator_input')\n",
        "generator_output = Dense(128)(generator_input)\n",
        "print(\"Generator Output Shape:\", generator_output.shape)\n",
        "\n",
        "# FiLM Layer\n",
        "film_layer = Lambda(lambda x: K.mean(x, axis=1, keepdims=True))(generator_output)\n",
        "filmed_encoder_output = Concatenate(axis=-1)([encoder_output, film_layer])\n",
        "print(\"FiLMed Encoder Output Shape:\", filmed_encoder_output.shape)\n",
        "\n",
        "# Task Network (additional layers can be added based on your specific architecture)\n",
        "task_output = LSTM(64)(filmed_encoder_output)\n",
        "print(\"Task Output Shape:\", task_output.shape)\n",
        "\n",
        "output = Dense(1, activation='linear')(task_output)\n",
        "print(\"Final Output Shape:\", output.shape)\n",
        "\n",
        "# Model\n",
        "model = Model(inputs=[encoder_input, generator_input], outputs=output)\n",
        "\n",
        "# Compile and fit the model (you can replace this with your actual data and training setup)\n",
        "model.compile(optimizer='adam', loss='mean_squared_error')\n",
        "model.fit(x=[synthetic_data, np.random.rand(num_samples, 128)], y=np.random.rand(num_samples, 1))\n"
      ],
      "metadata": {
        "colab": {
          "base_uri": "https://localhost:8080/",
          "height": 437
        },
        "id": "yFeZKaJqru_x",
        "outputId": "b4ff5e3c-c8f4-43ec-e54f-df5e07191cbf"
      },
      "execution_count": null,
      "outputs": [
        {
          "output_type": "stream",
          "name": "stdout",
          "text": [
            "Encoder Output Shape: (None, 10, 128)\n",
            "Generator Output Shape: (None, 128)\n"
          ]
        },
        {
          "output_type": "error",
          "ename": "ValueError",
          "evalue": "ignored",
          "traceback": [
            "\u001b[0;31m---------------------------------------------------------------------------\u001b[0m",
            "\u001b[0;31mValueError\u001b[0m                                Traceback (most recent call last)",
            "\u001b[0;32m<ipython-input-9-3ed8d5cdd34e>\u001b[0m in \u001b[0;36m<cell line: 21>\u001b[0;34m()\u001b[0m\n\u001b[1;32m     19\u001b[0m \u001b[0;31m# FiLM Layer\u001b[0m\u001b[0;34m\u001b[0m\u001b[0;34m\u001b[0m\u001b[0m\n\u001b[1;32m     20\u001b[0m \u001b[0mfilm_layer\u001b[0m \u001b[0;34m=\u001b[0m \u001b[0mLambda\u001b[0m\u001b[0;34m(\u001b[0m\u001b[0;32mlambda\u001b[0m \u001b[0mx\u001b[0m\u001b[0;34m:\u001b[0m \u001b[0mK\u001b[0m\u001b[0;34m.\u001b[0m\u001b[0mmean\u001b[0m\u001b[0;34m(\u001b[0m\u001b[0mx\u001b[0m\u001b[0;34m,\u001b[0m \u001b[0maxis\u001b[0m\u001b[0;34m=\u001b[0m\u001b[0;36m1\u001b[0m\u001b[0;34m,\u001b[0m \u001b[0mkeepdims\u001b[0m\u001b[0;34m=\u001b[0m\u001b[0;32mTrue\u001b[0m\u001b[0;34m)\u001b[0m\u001b[0;34m)\u001b[0m\u001b[0;34m(\u001b[0m\u001b[0mgenerator_output\u001b[0m\u001b[0;34m)\u001b[0m\u001b[0;34m\u001b[0m\u001b[0;34m\u001b[0m\u001b[0m\n\u001b[0;32m---> 21\u001b[0;31m \u001b[0mfilmed_encoder_output\u001b[0m \u001b[0;34m=\u001b[0m \u001b[0mConcatenate\u001b[0m\u001b[0;34m(\u001b[0m\u001b[0maxis\u001b[0m\u001b[0;34m=\u001b[0m\u001b[0;34m-\u001b[0m\u001b[0;36m1\u001b[0m\u001b[0;34m)\u001b[0m\u001b[0;34m(\u001b[0m\u001b[0;34m[\u001b[0m\u001b[0mencoder_output\u001b[0m\u001b[0;34m,\u001b[0m \u001b[0mfilm_layer\u001b[0m\u001b[0;34m]\u001b[0m\u001b[0;34m)\u001b[0m\u001b[0;34m\u001b[0m\u001b[0;34m\u001b[0m\u001b[0m\n\u001b[0m\u001b[1;32m     22\u001b[0m \u001b[0mprint\u001b[0m\u001b[0;34m(\u001b[0m\u001b[0;34m\"FiLMed Encoder Output Shape:\"\u001b[0m\u001b[0;34m,\u001b[0m \u001b[0mfilmed_encoder_output\u001b[0m\u001b[0;34m.\u001b[0m\u001b[0mshape\u001b[0m\u001b[0;34m)\u001b[0m\u001b[0;34m\u001b[0m\u001b[0;34m\u001b[0m\u001b[0m\n\u001b[1;32m     23\u001b[0m \u001b[0;34m\u001b[0m\u001b[0m\n",
            "\u001b[0;32m/usr/local/lib/python3.10/dist-packages/keras/src/utils/traceback_utils.py\u001b[0m in \u001b[0;36merror_handler\u001b[0;34m(*args, **kwargs)\u001b[0m\n\u001b[1;32m     68\u001b[0m             \u001b[0;31m# To get the full stack trace, call:\u001b[0m\u001b[0;34m\u001b[0m\u001b[0;34m\u001b[0m\u001b[0m\n\u001b[1;32m     69\u001b[0m             \u001b[0;31m# `tf.debugging.disable_traceback_filtering()`\u001b[0m\u001b[0;34m\u001b[0m\u001b[0;34m\u001b[0m\u001b[0m\n\u001b[0;32m---> 70\u001b[0;31m             \u001b[0;32mraise\u001b[0m \u001b[0me\u001b[0m\u001b[0;34m.\u001b[0m\u001b[0mwith_traceback\u001b[0m\u001b[0;34m(\u001b[0m\u001b[0mfiltered_tb\u001b[0m\u001b[0;34m)\u001b[0m \u001b[0;32mfrom\u001b[0m \u001b[0;32mNone\u001b[0m\u001b[0;34m\u001b[0m\u001b[0;34m\u001b[0m\u001b[0m\n\u001b[0m\u001b[1;32m     71\u001b[0m         \u001b[0;32mfinally\u001b[0m\u001b[0;34m:\u001b[0m\u001b[0;34m\u001b[0m\u001b[0;34m\u001b[0m\u001b[0m\n\u001b[1;32m     72\u001b[0m             \u001b[0;32mdel\u001b[0m \u001b[0mfiltered_tb\u001b[0m\u001b[0;34m\u001b[0m\u001b[0;34m\u001b[0m\u001b[0m\n",
            "\u001b[0;32m/usr/local/lib/python3.10/dist-packages/keras/src/layers/merging/concatenate.py\u001b[0m in \u001b[0;36mbuild\u001b[0;34m(self, input_shape)\u001b[0m\n\u001b[1;32m    117\u001b[0m             \u001b[0mranks\u001b[0m \u001b[0;34m=\u001b[0m \u001b[0mset\u001b[0m\u001b[0;34m(\u001b[0m\u001b[0mlen\u001b[0m\u001b[0;34m(\u001b[0m\u001b[0mshape\u001b[0m\u001b[0;34m)\u001b[0m \u001b[0;32mfor\u001b[0m \u001b[0mshape\u001b[0m \u001b[0;32min\u001b[0m \u001b[0mshape_set\u001b[0m\u001b[0;34m)\u001b[0m\u001b[0;34m\u001b[0m\u001b[0;34m\u001b[0m\u001b[0m\n\u001b[1;32m    118\u001b[0m             \u001b[0;32mif\u001b[0m \u001b[0mlen\u001b[0m\u001b[0;34m(\u001b[0m\u001b[0mranks\u001b[0m\u001b[0;34m)\u001b[0m \u001b[0;34m!=\u001b[0m \u001b[0;36m1\u001b[0m\u001b[0;34m:\u001b[0m\u001b[0;34m\u001b[0m\u001b[0;34m\u001b[0m\u001b[0m\n\u001b[0;32m--> 119\u001b[0;31m                 \u001b[0;32mraise\u001b[0m \u001b[0mValueError\u001b[0m\u001b[0;34m(\u001b[0m\u001b[0merr_msg\u001b[0m\u001b[0;34m)\u001b[0m\u001b[0;34m\u001b[0m\u001b[0;34m\u001b[0m\u001b[0m\n\u001b[0m\u001b[1;32m    120\u001b[0m             \u001b[0;31m# Get the only rank for the set.\u001b[0m\u001b[0;34m\u001b[0m\u001b[0;34m\u001b[0m\u001b[0m\n\u001b[1;32m    121\u001b[0m             \u001b[0;34m(\u001b[0m\u001b[0mrank\u001b[0m\u001b[0;34m,\u001b[0m\u001b[0;34m)\u001b[0m \u001b[0;34m=\u001b[0m \u001b[0mranks\u001b[0m\u001b[0;34m\u001b[0m\u001b[0;34m\u001b[0m\u001b[0m\n",
            "\u001b[0;31mValueError\u001b[0m: A `Concatenate` layer requires inputs with matching shapes except for the concatenation axis. Received: input_shape=[(None, 10, 128), (None, 1)]"
          ]
        }
      ]
    },
    {
      "cell_type": "code",
      "source": [
        "from keras.layers import Input, LSTM, Dense, Lambda, Concatenate\n",
        "from keras.models import Model\n",
        "\n",
        "# Synthetic Data\n",
        "num_samples = 5\n",
        "input_shape = (10, 128)  # Adjust based on your actual input shape\n",
        "synthetic_data = np.random.rand(num_samples, *input_shape)\n",
        "\n",
        "# Encoder\n",
        "encoder_input = Input(shape=input_shape, name='encoder_input')\n",
        "encoder_output = LSTM(128, return_sequences=True)(encoder_input)\n",
        "print(\"Encoder Output Shape:\", encoder_output.shape)\n",
        "\n",
        "# Generator\n",
        "generator_input = Input(shape=(128,), name='generator_input')\n",
        "generator_output = Dense(128)(generator_input)\n",
        "print(\"Generator Output Shape:\", generator_output.shape)\n",
        "\n",
        "# FiLM Layer\n",
        "film_layer = Lambda(lambda x: K.mean(x, axis=1, keepdims=True))(generator_output)\n",
        "film_layer = Lambda(lambda x: K.repeat_elements(x, input_shape[1], axis=1))(film_layer)\n",
        "print(\"FiLMed Encoder Output Shape:\", encoder_output.shape)\n",
        "\n",
        "# Concatenate along the last dimension\n",
        "filmed_encoder_output = Concatenate(axis=-1)([encoder_output, film_layer])\n",
        "print(\"Concatenated Output Shape:\", filmed_encoder_output.shape)\n",
        "\n",
        "# Task Network (additional layers can be added based on your specific architecture)\n",
        "task_output = LSTM(64)(filmed_encoder_output)\n",
        "print(\"Task Output Shape:\", task_output.shape)\n",
        "\n",
        "output = Dense(1, activation='linear')(task_output)\n",
        "print(\"Final Output Shape:\", output.shape)\n",
        "\n",
        "# Model\n",
        "model = Model(inputs=[encoder_input, generator_input], outputs=output)\n",
        "\n",
        "# Compile and fit the model (you can replace this with your actual data and training setup)\n",
        "model.compile(optimizer='adam', loss='mean_squared_error')\n",
        "model.fit(x=[synthetic_data, np.random.rand(num_samples, 128)], y=np.random.rand(num_samples, 1))\n"
      ],
      "metadata": {
        "colab": {
          "base_uri": "https://localhost:8080/",
          "height": 455
        },
        "id": "anJyqcR0r5JY",
        "outputId": "461f1e31-e480-44cb-dbc5-fdc576a2d157"
      },
      "execution_count": null,
      "outputs": [
        {
          "output_type": "stream",
          "name": "stdout",
          "text": [
            "Encoder Output Shape: (None, 10, 128)\n",
            "Generator Output Shape: (None, 128)\n",
            "FiLMed Encoder Output Shape: (None, 10, 128)\n"
          ]
        },
        {
          "output_type": "error",
          "ename": "ValueError",
          "evalue": "ignored",
          "traceback": [
            "\u001b[0;31m---------------------------------------------------------------------------\u001b[0m",
            "\u001b[0;31mValueError\u001b[0m                                Traceback (most recent call last)",
            "\u001b[0;32m<ipython-input-10-6bebf7abecf9>\u001b[0m in \u001b[0;36m<cell line: 25>\u001b[0;34m()\u001b[0m\n\u001b[1;32m     23\u001b[0m \u001b[0;34m\u001b[0m\u001b[0m\n\u001b[1;32m     24\u001b[0m \u001b[0;31m# Concatenate along the last dimension\u001b[0m\u001b[0;34m\u001b[0m\u001b[0;34m\u001b[0m\u001b[0m\n\u001b[0;32m---> 25\u001b[0;31m \u001b[0mfilmed_encoder_output\u001b[0m \u001b[0;34m=\u001b[0m \u001b[0mConcatenate\u001b[0m\u001b[0;34m(\u001b[0m\u001b[0maxis\u001b[0m\u001b[0;34m=\u001b[0m\u001b[0;34m-\u001b[0m\u001b[0;36m1\u001b[0m\u001b[0;34m)\u001b[0m\u001b[0;34m(\u001b[0m\u001b[0;34m[\u001b[0m\u001b[0mencoder_output\u001b[0m\u001b[0;34m,\u001b[0m \u001b[0mfilm_layer\u001b[0m\u001b[0;34m]\u001b[0m\u001b[0;34m)\u001b[0m\u001b[0;34m\u001b[0m\u001b[0;34m\u001b[0m\u001b[0m\n\u001b[0m\u001b[1;32m     26\u001b[0m \u001b[0mprint\u001b[0m\u001b[0;34m(\u001b[0m\u001b[0;34m\"Concatenated Output Shape:\"\u001b[0m\u001b[0;34m,\u001b[0m \u001b[0mfilmed_encoder_output\u001b[0m\u001b[0;34m.\u001b[0m\u001b[0mshape\u001b[0m\u001b[0;34m)\u001b[0m\u001b[0;34m\u001b[0m\u001b[0;34m\u001b[0m\u001b[0m\n\u001b[1;32m     27\u001b[0m \u001b[0;34m\u001b[0m\u001b[0m\n",
            "\u001b[0;32m/usr/local/lib/python3.10/dist-packages/keras/src/utils/traceback_utils.py\u001b[0m in \u001b[0;36merror_handler\u001b[0;34m(*args, **kwargs)\u001b[0m\n\u001b[1;32m     68\u001b[0m             \u001b[0;31m# To get the full stack trace, call:\u001b[0m\u001b[0;34m\u001b[0m\u001b[0;34m\u001b[0m\u001b[0m\n\u001b[1;32m     69\u001b[0m             \u001b[0;31m# `tf.debugging.disable_traceback_filtering()`\u001b[0m\u001b[0;34m\u001b[0m\u001b[0;34m\u001b[0m\u001b[0m\n\u001b[0;32m---> 70\u001b[0;31m             \u001b[0;32mraise\u001b[0m \u001b[0me\u001b[0m\u001b[0;34m.\u001b[0m\u001b[0mwith_traceback\u001b[0m\u001b[0;34m(\u001b[0m\u001b[0mfiltered_tb\u001b[0m\u001b[0;34m)\u001b[0m \u001b[0;32mfrom\u001b[0m \u001b[0;32mNone\u001b[0m\u001b[0;34m\u001b[0m\u001b[0;34m\u001b[0m\u001b[0m\n\u001b[0m\u001b[1;32m     71\u001b[0m         \u001b[0;32mfinally\u001b[0m\u001b[0;34m:\u001b[0m\u001b[0;34m\u001b[0m\u001b[0;34m\u001b[0m\u001b[0m\n\u001b[1;32m     72\u001b[0m             \u001b[0;32mdel\u001b[0m \u001b[0mfiltered_tb\u001b[0m\u001b[0;34m\u001b[0m\u001b[0;34m\u001b[0m\u001b[0m\n",
            "\u001b[0;32m/usr/local/lib/python3.10/dist-packages/keras/src/layers/merging/concatenate.py\u001b[0m in \u001b[0;36mbuild\u001b[0;34m(self, input_shape)\u001b[0m\n\u001b[1;32m    117\u001b[0m             \u001b[0mranks\u001b[0m \u001b[0;34m=\u001b[0m \u001b[0mset\u001b[0m\u001b[0;34m(\u001b[0m\u001b[0mlen\u001b[0m\u001b[0;34m(\u001b[0m\u001b[0mshape\u001b[0m\u001b[0;34m)\u001b[0m \u001b[0;32mfor\u001b[0m \u001b[0mshape\u001b[0m \u001b[0;32min\u001b[0m \u001b[0mshape_set\u001b[0m\u001b[0;34m)\u001b[0m\u001b[0;34m\u001b[0m\u001b[0;34m\u001b[0m\u001b[0m\n\u001b[1;32m    118\u001b[0m             \u001b[0;32mif\u001b[0m \u001b[0mlen\u001b[0m\u001b[0;34m(\u001b[0m\u001b[0mranks\u001b[0m\u001b[0;34m)\u001b[0m \u001b[0;34m!=\u001b[0m \u001b[0;36m1\u001b[0m\u001b[0;34m:\u001b[0m\u001b[0;34m\u001b[0m\u001b[0;34m\u001b[0m\u001b[0m\n\u001b[0;32m--> 119\u001b[0;31m                 \u001b[0;32mraise\u001b[0m \u001b[0mValueError\u001b[0m\u001b[0;34m(\u001b[0m\u001b[0merr_msg\u001b[0m\u001b[0;34m)\u001b[0m\u001b[0;34m\u001b[0m\u001b[0;34m\u001b[0m\u001b[0m\n\u001b[0m\u001b[1;32m    120\u001b[0m             \u001b[0;31m# Get the only rank for the set.\u001b[0m\u001b[0;34m\u001b[0m\u001b[0;34m\u001b[0m\u001b[0m\n\u001b[1;32m    121\u001b[0m             \u001b[0;34m(\u001b[0m\u001b[0mrank\u001b[0m\u001b[0;34m,\u001b[0m\u001b[0;34m)\u001b[0m \u001b[0;34m=\u001b[0m \u001b[0mranks\u001b[0m\u001b[0;34m\u001b[0m\u001b[0;34m\u001b[0m\u001b[0m\n",
            "\u001b[0;31mValueError\u001b[0m: A `Concatenate` layer requires inputs with matching shapes except for the concatenation axis. Received: input_shape=[(None, 10, 128), (None, 128)]"
          ]
        }
      ]
    },
    {
      "cell_type": "code",
      "source": [
        "from keras.layers import Input, LSTM, Dense, Lambda, Concatenate\n",
        "from keras.models import Model\n",
        "\n",
        "# Synthetic Data\n",
        "num_samples = 5\n",
        "input_shape = (10, 128)  # Adjust based on your actual input shape\n",
        "synthetic_data = np.random.rand(num_samples, *input_shape)\n",
        "\n",
        "# Encoder\n",
        "encoder_input = Input(shape=input_shape, name='encoder_input')\n",
        "encoder_output = LSTM(128, return_sequences=True)(encoder_input)\n",
        "print(\"Encoder Output Shape:\", encoder_output.shape)\n",
        "\n",
        "# Generator\n",
        "generator_input = Input(shape=(128,), name='generator_input')\n",
        "generator_output = Dense(128)(generator_input)\n",
        "print(\"Generator Output Shape:\", generator_output.shape)\n",
        "\n",
        "# FiLM Layer\n",
        "film_layer = Lambda(lambda x: K.mean(x, axis=1, keepdims=True))(generator_output)\n",
        "film_layer = Lambda(lambda x: K.repeat_elements(x, input_shape[1], axis=1))(film_layer)\n",
        "print(\"FiLMed Encoder Output Shape:\", film_layer.shape)\n",
        "\n",
        "# Concatenate along the last dimension\n",
        "filmed_encoder_output = Concatenate(axis=-1)([encoder_output, film_layer])\n",
        "print(\"Concatenated Output Shape:\", filmed_encoder_output.shape)\n",
        "\n",
        "# Task Network (additional layers can be added based on your specific architecture)\n",
        "task_output = LSTM(64)(filmed_encoder_output)\n",
        "print(\"Task Output Shape:\", task_output.shape)\n",
        "\n",
        "output = Dense(1, activation='linear')(task_output)\n",
        "print(\"Final Output Shape:\", output.shape)\n",
        "\n",
        "# Model\n",
        "model = Model(inputs=[encoder_input, generator_input], outputs=output)\n",
        "\n",
        "# Compile and fit the model (you can replace this with your actual data and training setup)\n",
        "model.compile(optimizer='adam', loss='mean_squared_error')\n",
        "model.fit(x=[synthetic_data, np.random.rand(num_samples, 128)], y=np.random.rand(num_samples, 1))\n"
      ],
      "metadata": {
        "id": "A6azkhqMsASQ"
      },
      "execution_count": null,
      "outputs": []
    }
  ]
}